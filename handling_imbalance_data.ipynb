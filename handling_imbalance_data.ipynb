{
  "cells": [
    {
      "cell_type": "markdown",
      "metadata": {
        "id": "view-in-github",
        "colab_type": "text"
      },
      "source": [
        "<a href=\"https://colab.research.google.com/github/vijaykumarharakuni/data_analysis/blob/main/handling_imbalance_data.ipynb\" target=\"_parent\"><img src=\"https://colab.research.google.com/assets/colab-badge.svg\" alt=\"Open In Colab\"/></a>"
      ]
    },
    {
      "cell_type": "code",
      "execution_count": null,
      "id": "6fdb2ce6",
      "metadata": {
        "id": "6fdb2ce6"
      },
      "outputs": [],
      "source": [
        "import pandas as pd\n",
        "import numpy as np\n",
        "import matplotlib.pyplot as plt\n",
        "import seaborn as sns"
      ]
    },
    {
      "cell_type": "code",
      "execution_count": null,
      "id": "7f893eca",
      "metadata": {
        "id": "7f893eca"
      },
      "outputs": [],
      "source": [
        "data=pd.read_csv('creditcard.csv')"
      ]
    },
    {
      "cell_type": "code",
      "execution_count": null,
      "id": "9ce363a0",
      "metadata": {
        "id": "9ce363a0",
        "outputId": "8dfd08ee-63d8-4b06-daad-f7e39e214f76"
      },
      "outputs": [
        {
          "data": {
            "text/html": [
              "<div>\n",
              "<style scoped>\n",
              "    .dataframe tbody tr th:only-of-type {\n",
              "        vertical-align: middle;\n",
              "    }\n",
              "\n",
              "    .dataframe tbody tr th {\n",
              "        vertical-align: top;\n",
              "    }\n",
              "\n",
              "    .dataframe thead th {\n",
              "        text-align: right;\n",
              "    }\n",
              "</style>\n",
              "<table border=\"1\" class=\"dataframe\">\n",
              "  <thead>\n",
              "    <tr style=\"text-align: right;\">\n",
              "      <th></th>\n",
              "      <th>Time</th>\n",
              "      <th>V1</th>\n",
              "      <th>V2</th>\n",
              "      <th>V3</th>\n",
              "      <th>V4</th>\n",
              "      <th>V5</th>\n",
              "      <th>V6</th>\n",
              "      <th>V7</th>\n",
              "      <th>V8</th>\n",
              "      <th>V9</th>\n",
              "      <th>...</th>\n",
              "      <th>V21</th>\n",
              "      <th>V22</th>\n",
              "      <th>V23</th>\n",
              "      <th>V24</th>\n",
              "      <th>V25</th>\n",
              "      <th>V26</th>\n",
              "      <th>V27</th>\n",
              "      <th>V28</th>\n",
              "      <th>Amount</th>\n",
              "      <th>Class</th>\n",
              "    </tr>\n",
              "  </thead>\n",
              "  <tbody>\n",
              "    <tr>\n",
              "      <th>0</th>\n",
              "      <td>89630.0</td>\n",
              "      <td>0.030601</td>\n",
              "      <td>0.859108</td>\n",
              "      <td>0.290804</td>\n",
              "      <td>-0.591915</td>\n",
              "      <td>0.441892</td>\n",
              "      <td>-1.033405</td>\n",
              "      <td>1.016281</td>\n",
              "      <td>-0.190080</td>\n",
              "      <td>-0.066897</td>\n",
              "      <td>...</td>\n",
              "      <td>-0.251454</td>\n",
              "      <td>-0.537176</td>\n",
              "      <td>0.081516</td>\n",
              "      <td>-0.016869</td>\n",
              "      <td>-0.498699</td>\n",
              "      <td>0.142886</td>\n",
              "      <td>0.250215</td>\n",
              "      <td>0.097351</td>\n",
              "      <td>5.99</td>\n",
              "      <td>0</td>\n",
              "    </tr>\n",
              "    <tr>\n",
              "      <th>1</th>\n",
              "      <td>33404.0</td>\n",
              "      <td>1.042874</td>\n",
              "      <td>0.348936</td>\n",
              "      <td>-0.207597</td>\n",
              "      <td>2.215841</td>\n",
              "      <td>0.991928</td>\n",
              "      <td>1.349503</td>\n",
              "      <td>0.100767</td>\n",
              "      <td>0.451493</td>\n",
              "      <td>-0.739607</td>\n",
              "      <td>...</td>\n",
              "      <td>0.064860</td>\n",
              "      <td>0.193583</td>\n",
              "      <td>-0.007651</td>\n",
              "      <td>-1.379281</td>\n",
              "      <td>0.389286</td>\n",
              "      <td>0.225199</td>\n",
              "      <td>0.015614</td>\n",
              "      <td>-0.010651</td>\n",
              "      <td>15.16</td>\n",
              "      <td>0</td>\n",
              "    </tr>\n",
              "    <tr>\n",
              "      <th>2</th>\n",
              "      <td>57910.0</td>\n",
              "      <td>-1.549217</td>\n",
              "      <td>0.444995</td>\n",
              "      <td>1.953795</td>\n",
              "      <td>0.767481</td>\n",
              "      <td>1.249854</td>\n",
              "      <td>-0.439201</td>\n",
              "      <td>0.843048</td>\n",
              "      <td>0.145210</td>\n",
              "      <td>-1.561334</td>\n",
              "      <td>...</td>\n",
              "      <td>0.226098</td>\n",
              "      <td>0.136749</td>\n",
              "      <td>-0.178771</td>\n",
              "      <td>-0.013354</td>\n",
              "      <td>0.782533</td>\n",
              "      <td>-0.175391</td>\n",
              "      <td>-0.075909</td>\n",
              "      <td>0.058072</td>\n",
              "      <td>73.02</td>\n",
              "      <td>0</td>\n",
              "    </tr>\n",
              "    <tr>\n",
              "      <th>3</th>\n",
              "      <td>133413.0</td>\n",
              "      <td>-0.322340</td>\n",
              "      <td>0.969558</td>\n",
              "      <td>0.462259</td>\n",
              "      <td>-0.100560</td>\n",
              "      <td>-0.187871</td>\n",
              "      <td>-1.069206</td>\n",
              "      <td>0.454631</td>\n",
              "      <td>0.211302</td>\n",
              "      <td>-0.162835</td>\n",
              "      <td>...</td>\n",
              "      <td>0.164689</td>\n",
              "      <td>0.497732</td>\n",
              "      <td>-0.038204</td>\n",
              "      <td>0.420742</td>\n",
              "      <td>-0.191605</td>\n",
              "      <td>-0.333414</td>\n",
              "      <td>-0.032846</td>\n",
              "      <td>-0.010004</td>\n",
              "      <td>9.94</td>\n",
              "      <td>0</td>\n",
              "    </tr>\n",
              "    <tr>\n",
              "      <th>4</th>\n",
              "      <td>171524.0</td>\n",
              "      <td>1.990957</td>\n",
              "      <td>-1.984952</td>\n",
              "      <td>-1.014321</td>\n",
              "      <td>-1.265569</td>\n",
              "      <td>-1.371786</td>\n",
              "      <td>0.034195</td>\n",
              "      <td>-1.117904</td>\n",
              "      <td>0.061933</td>\n",
              "      <td>-0.828024</td>\n",
              "      <td>...</td>\n",
              "      <td>-0.416109</td>\n",
              "      <td>-0.844353</td>\n",
              "      <td>0.244993</td>\n",
              "      <td>0.716250</td>\n",
              "      <td>-0.264875</td>\n",
              "      <td>-0.387468</td>\n",
              "      <td>-0.015237</td>\n",
              "      <td>-0.036681</td>\n",
              "      <td>137.94</td>\n",
              "      <td>0</td>\n",
              "    </tr>\n",
              "    <tr>\n",
              "      <th>...</th>\n",
              "      <td>...</td>\n",
              "      <td>...</td>\n",
              "      <td>...</td>\n",
              "      <td>...</td>\n",
              "      <td>...</td>\n",
              "      <td>...</td>\n",
              "      <td>...</td>\n",
              "      <td>...</td>\n",
              "      <td>...</td>\n",
              "      <td>...</td>\n",
              "      <td>...</td>\n",
              "      <td>...</td>\n",
              "      <td>...</td>\n",
              "      <td>...</td>\n",
              "      <td>...</td>\n",
              "      <td>...</td>\n",
              "      <td>...</td>\n",
              "      <td>...</td>\n",
              "      <td>...</td>\n",
              "      <td>...</td>\n",
              "      <td>...</td>\n",
              "    </tr>\n",
              "    <tr>\n",
              "      <th>1995</th>\n",
              "      <td>68067.0</td>\n",
              "      <td>1.158949</td>\n",
              "      <td>-0.063824</td>\n",
              "      <td>0.438288</td>\n",
              "      <td>1.414777</td>\n",
              "      <td>-0.450308</td>\n",
              "      <td>-0.188311</td>\n",
              "      <td>-0.145914</td>\n",
              "      <td>0.029607</td>\n",
              "      <td>0.764487</td>\n",
              "      <td>...</td>\n",
              "      <td>-0.108035</td>\n",
              "      <td>-0.196867</td>\n",
              "      <td>-0.177628</td>\n",
              "      <td>-0.131616</td>\n",
              "      <td>0.713550</td>\n",
              "      <td>-0.266711</td>\n",
              "      <td>0.024898</td>\n",
              "      <td>0.021204</td>\n",
              "      <td>40.48</td>\n",
              "      <td>0</td>\n",
              "    </tr>\n",
              "    <tr>\n",
              "      <th>1996</th>\n",
              "      <td>67439.0</td>\n",
              "      <td>-0.737371</td>\n",
              "      <td>1.074765</td>\n",
              "      <td>0.925156</td>\n",
              "      <td>1.119732</td>\n",
              "      <td>-0.320521</td>\n",
              "      <td>-0.300408</td>\n",
              "      <td>0.010076</td>\n",
              "      <td>0.466087</td>\n",
              "      <td>-0.365982</td>\n",
              "      <td>...</td>\n",
              "      <td>-0.070750</td>\n",
              "      <td>-0.399785</td>\n",
              "      <td>0.221042</td>\n",
              "      <td>0.002362</td>\n",
              "      <td>-0.445681</td>\n",
              "      <td>-0.538104</td>\n",
              "      <td>-0.274833</td>\n",
              "      <td>-0.046422</td>\n",
              "      <td>10.74</td>\n",
              "      <td>0</td>\n",
              "    </tr>\n",
              "    <tr>\n",
              "      <th>1997</th>\n",
              "      <td>168738.0</td>\n",
              "      <td>1.974124</td>\n",
              "      <td>-0.389631</td>\n",
              "      <td>-0.217775</td>\n",
              "      <td>0.532470</td>\n",
              "      <td>-0.811666</td>\n",
              "      <td>-0.621544</td>\n",
              "      <td>-0.581974</td>\n",
              "      <td>-0.078587</td>\n",
              "      <td>1.434533</td>\n",
              "      <td>...</td>\n",
              "      <td>0.197253</td>\n",
              "      <td>0.839096</td>\n",
              "      <td>0.117580</td>\n",
              "      <td>0.077877</td>\n",
              "      <td>-0.090641</td>\n",
              "      <td>-0.216530</td>\n",
              "      <td>0.043252</td>\n",
              "      <td>-0.035661</td>\n",
              "      <td>9.99</td>\n",
              "      <td>0</td>\n",
              "    </tr>\n",
              "    <tr>\n",
              "      <th>1998</th>\n",
              "      <td>61976.0</td>\n",
              "      <td>1.217240</td>\n",
              "      <td>0.392927</td>\n",
              "      <td>0.552836</td>\n",
              "      <td>1.099208</td>\n",
              "      <td>-0.326836</td>\n",
              "      <td>-0.866937</td>\n",
              "      <td>0.171776</td>\n",
              "      <td>-0.218064</td>\n",
              "      <td>-0.075329</td>\n",
              "      <td>...</td>\n",
              "      <td>-0.217386</td>\n",
              "      <td>-0.609306</td>\n",
              "      <td>0.088162</td>\n",
              "      <td>0.369804</td>\n",
              "      <td>0.393294</td>\n",
              "      <td>-0.634290</td>\n",
              "      <td>0.028429</td>\n",
              "      <td>0.032642</td>\n",
              "      <td>9.99</td>\n",
              "      <td>0</td>\n",
              "    </tr>\n",
              "    <tr>\n",
              "      <th>1999</th>\n",
              "      <td>43097.0</td>\n",
              "      <td>1.228836</td>\n",
              "      <td>-0.037890</td>\n",
              "      <td>0.720688</td>\n",
              "      <td>-0.133147</td>\n",
              "      <td>-0.801954</td>\n",
              "      <td>-0.816206</td>\n",
              "      <td>-0.282638</td>\n",
              "      <td>-0.053740</td>\n",
              "      <td>0.066400</td>\n",
              "      <td>...</td>\n",
              "      <td>-0.065387</td>\n",
              "      <td>-0.191120</td>\n",
              "      <td>0.106303</td>\n",
              "      <td>0.595506</td>\n",
              "      <td>0.072786</td>\n",
              "      <td>0.873787</td>\n",
              "      <td>-0.071532</td>\n",
              "      <td>0.001761</td>\n",
              "      <td>0.77</td>\n",
              "      <td>0</td>\n",
              "    </tr>\n",
              "  </tbody>\n",
              "</table>\n",
              "<p>2000 rows × 31 columns</p>\n",
              "</div>"
            ],
            "text/plain": [
              "          Time        V1        V2        V3        V4        V5        V6  \\\n",
              "0      89630.0  0.030601  0.859108  0.290804 -0.591915  0.441892 -1.033405   \n",
              "1      33404.0  1.042874  0.348936 -0.207597  2.215841  0.991928  1.349503   \n",
              "2      57910.0 -1.549217  0.444995  1.953795  0.767481  1.249854 -0.439201   \n",
              "3     133413.0 -0.322340  0.969558  0.462259 -0.100560 -0.187871 -1.069206   \n",
              "4     171524.0  1.990957 -1.984952 -1.014321 -1.265569 -1.371786  0.034195   \n",
              "...        ...       ...       ...       ...       ...       ...       ...   \n",
              "1995   68067.0  1.158949 -0.063824  0.438288  1.414777 -0.450308 -0.188311   \n",
              "1996   67439.0 -0.737371  1.074765  0.925156  1.119732 -0.320521 -0.300408   \n",
              "1997  168738.0  1.974124 -0.389631 -0.217775  0.532470 -0.811666 -0.621544   \n",
              "1998   61976.0  1.217240  0.392927  0.552836  1.099208 -0.326836 -0.866937   \n",
              "1999   43097.0  1.228836 -0.037890  0.720688 -0.133147 -0.801954 -0.816206   \n",
              "\n",
              "            V7        V8        V9  ...       V21       V22       V23  \\\n",
              "0     1.016281 -0.190080 -0.066897  ... -0.251454 -0.537176  0.081516   \n",
              "1     0.100767  0.451493 -0.739607  ...  0.064860  0.193583 -0.007651   \n",
              "2     0.843048  0.145210 -1.561334  ...  0.226098  0.136749 -0.178771   \n",
              "3     0.454631  0.211302 -0.162835  ...  0.164689  0.497732 -0.038204   \n",
              "4    -1.117904  0.061933 -0.828024  ... -0.416109 -0.844353  0.244993   \n",
              "...        ...       ...       ...  ...       ...       ...       ...   \n",
              "1995 -0.145914  0.029607  0.764487  ... -0.108035 -0.196867 -0.177628   \n",
              "1996  0.010076  0.466087 -0.365982  ... -0.070750 -0.399785  0.221042   \n",
              "1997 -0.581974 -0.078587  1.434533  ...  0.197253  0.839096  0.117580   \n",
              "1998  0.171776 -0.218064 -0.075329  ... -0.217386 -0.609306  0.088162   \n",
              "1999 -0.282638 -0.053740  0.066400  ... -0.065387 -0.191120  0.106303   \n",
              "\n",
              "           V24       V25       V26       V27       V28  Amount  Class  \n",
              "0    -0.016869 -0.498699  0.142886  0.250215  0.097351    5.99      0  \n",
              "1    -1.379281  0.389286  0.225199  0.015614 -0.010651   15.16      0  \n",
              "2    -0.013354  0.782533 -0.175391 -0.075909  0.058072   73.02      0  \n",
              "3     0.420742 -0.191605 -0.333414 -0.032846 -0.010004    9.94      0  \n",
              "4     0.716250 -0.264875 -0.387468 -0.015237 -0.036681  137.94      0  \n",
              "...        ...       ...       ...       ...       ...     ...    ...  \n",
              "1995 -0.131616  0.713550 -0.266711  0.024898  0.021204   40.48      0  \n",
              "1996  0.002362 -0.445681 -0.538104 -0.274833 -0.046422   10.74      0  \n",
              "1997  0.077877 -0.090641 -0.216530  0.043252 -0.035661    9.99      0  \n",
              "1998  0.369804  0.393294 -0.634290  0.028429  0.032642    9.99      0  \n",
              "1999  0.595506  0.072786  0.873787 -0.071532  0.001761    0.77      0  \n",
              "\n",
              "[2000 rows x 31 columns]"
            ]
          },
          "execution_count": 3,
          "metadata": {},
          "output_type": "execute_result"
        }
      ],
      "source": [
        "data\n"
      ]
    },
    {
      "cell_type": "code",
      "execution_count": null,
      "id": "e7ab0d71",
      "metadata": {
        "id": "e7ab0d71",
        "outputId": "721bae7e-09cb-4a36-dcb8-c27c09608530"
      },
      "outputs": [
        {
          "name": "stdout",
          "output_type": "stream",
          "text": [
            "<class 'pandas.core.frame.DataFrame'>\n",
            "RangeIndex: 2000 entries, 0 to 1999\n",
            "Data columns (total 31 columns):\n",
            " #   Column  Non-Null Count  Dtype  \n",
            "---  ------  --------------  -----  \n",
            " 0   Time    2000 non-null   float64\n",
            " 1   V1      2000 non-null   float64\n",
            " 2   V2      2000 non-null   float64\n",
            " 3   V3      2000 non-null   float64\n",
            " 4   V4      2000 non-null   float64\n",
            " 5   V5      2000 non-null   float64\n",
            " 6   V6      2000 non-null   float64\n",
            " 7   V7      2000 non-null   float64\n",
            " 8   V8      2000 non-null   float64\n",
            " 9   V9      2000 non-null   float64\n",
            " 10  V10     2000 non-null   float64\n",
            " 11  V11     2000 non-null   float64\n",
            " 12  V12     2000 non-null   float64\n",
            " 13  V13     2000 non-null   float64\n",
            " 14  V14     2000 non-null   float64\n",
            " 15  V15     2000 non-null   float64\n",
            " 16  V16     2000 non-null   float64\n",
            " 17  V17     2000 non-null   float64\n",
            " 18  V18     2000 non-null   float64\n",
            " 19  V19     2000 non-null   float64\n",
            " 20  V20     2000 non-null   float64\n",
            " 21  V21     2000 non-null   float64\n",
            " 22  V22     2000 non-null   float64\n",
            " 23  V23     2000 non-null   float64\n",
            " 24  V24     2000 non-null   float64\n",
            " 25  V25     2000 non-null   float64\n",
            " 26  V26     2000 non-null   float64\n",
            " 27  V27     2000 non-null   float64\n",
            " 28  V28     2000 non-null   float64\n",
            " 29  Amount  2000 non-null   float64\n",
            " 30  Class   2000 non-null   int64  \n",
            "dtypes: float64(30), int64(1)\n",
            "memory usage: 484.5 KB\n"
          ]
        }
      ],
      "source": [
        "data.info()"
      ]
    },
    {
      "cell_type": "code",
      "execution_count": null,
      "id": "24beb40f",
      "metadata": {
        "id": "24beb40f",
        "outputId": "2cd6c9a9-4d1d-4f09-ff3f-a09d0c6e7c93"
      },
      "outputs": [
        {
          "data": {
            "text/plain": [
              "0    1974\n",
              "1      26\n",
              "Name: Class, dtype: int64"
            ]
          },
          "execution_count": 6,
          "metadata": {},
          "output_type": "execute_result"
        }
      ],
      "source": [
        "data['Class'].value_counts()"
      ]
    },
    {
      "cell_type": "code",
      "execution_count": null,
      "id": "e7de7a0d",
      "metadata": {
        "id": "e7de7a0d",
        "outputId": "d0875bba-afd1-4d2f-ddbd-6601c1507005"
      },
      "outputs": [
        {
          "data": {
            "text/plain": [
              "<Axes: >"
            ]
          },
          "execution_count": 7,
          "metadata": {},
          "output_type": "execute_result"
        },
        {
          "data": {
            "image/png": "[encoded data removed]",
            "text/plain": [
              "<Figure size 640x480 with 1 Axes>"
            ]
          },
          "metadata": {},
          "output_type": "display_data"
        }
      ],
      "source": [
        "data['Class'].value_counts().plot(kind='bar')"
      ]
    },
    {
      "cell_type": "code",
      "execution_count": null,
      "id": "a2cc6cfc",
      "metadata": {
        "id": "a2cc6cfc"
      },
      "outputs": [],
      "source": [
        "# Imbalance Data---\n",
        "# Target class 1 instances are very less\n",
        "\n",
        "\n",
        "# Techniques to handle imbalance data\n",
        "Minority class  ,       majority class\n",
        "26                       1974\n",
        "\n",
        "\n",
        "1. Random Over sampling--minority class will become equal to majoriy class\n",
        "Minority class  ,       majority class\n",
        "1974                     1974\n",
        "\n",
        "1. Random Under sampling--Majority class will become equal to minority class\n",
        "Minority class  ,       majority class\n",
        "26                        26\n",
        "\n",
        "3. SMOTE---Synthetic Minority Over-Sampling Technique\n",
        "\n",
        "new samples generate , process carried on until dataset is balanced\n",
        "\n",
        "new sample=D+lambda*(E-D)"
      ]
    },
    {
      "cell_type": "code",
      "execution_count": null,
      "id": "9416bf57",
      "metadata": {
        "id": "9416bf57"
      },
      "outputs": [],
      "source": [
        "# create indep & dep var\n",
        "X=data.drop('Class',axis=1)\n",
        "y=data['Class']"
      ]
    },
    {
      "cell_type": "code",
      "execution_count": null,
      "id": "caeae94a",
      "metadata": {
        "id": "caeae94a"
      },
      "outputs": [],
      "source": [
        "# create split\n",
        "from sklearn.model_selection import train_test_split\n",
        "X_train,X_test,y_train,y_test=train_test_split(X,y,test_size=0.3,random_state=42)"
      ]
    },
    {
      "cell_type": "code",
      "execution_count": null,
      "id": "26b30c32",
      "metadata": {
        "id": "26b30c32"
      },
      "outputs": [],
      "source": [
        "# Apply std scaling\n",
        "from sklearn.preprocessing import StandardScaler\n",
        "sc=StandardScaler()\n",
        "X_train=sc.fit_transform(X_train)\n",
        "X_test=sc.transform(X_test)"
      ]
    },
    {
      "cell_type": "code",
      "execution_count": null,
      "id": "20a03103",
      "metadata": {
        "id": "20a03103",
        "outputId": "a8c0d2be-07ad-4195-a4aa-8dff6aff74da"
      },
      "outputs": [
        {
          "name": "stdout",
          "output_type": "stream",
          "text": [
            "(1400, 30)\n"
          ]
        }
      ],
      "source": [
        "print(X_train.shape)"
      ]
    },
    {
      "cell_type": "code",
      "execution_count": null,
      "id": "9c4508b5",
      "metadata": {
        "id": "9c4508b5",
        "outputId": "f96f9154-1df7-4633-d3ee-dbd23be3d531"
      },
      "outputs": [
        {
          "name": "stdout",
          "output_type": "stream",
          "text": [
            "0    1380\n",
            "1      20\n",
            "Name: Class, dtype: int64\n"
          ]
        }
      ],
      "source": [
        "print(y_train.value_counts())"
      ]
    },
    {
      "cell_type": "code",
      "execution_count": null,
      "id": "580c75f4",
      "metadata": {
        "id": "580c75f4"
      },
      "outputs": [],
      "source": []
    },
    {
      "cell_type": "code",
      "execution_count": null,
      "id": "20f629ba",
      "metadata": {
        "id": "20f629ba",
        "outputId": "376c8c33-7988-4d02-c6c6-8d2ded5b8564"
      },
      "outputs": [
        {
          "name": "stdout",
          "output_type": "stream",
          "text": [
            "Collecting imblearn\n",
            "  Obtaining dependency information for imblearn from https://files.pythonhosted.org/packages/81/a7/4179e6ebfd654bd0eac0b9c06125b8b4c96a9d0a8ff9e9507eb2a26d2d7e/imblearn-0.0-py2.py3-none-any.whl.metadata\n",
            "  Downloading imblearn-0.0-py2.py3-none-any.whl.metadata (355 bytes)\n",
            "Requirement already satisfied: imbalanced-learn in c:\\users\\er9po\\anaconda3\\lib\\site-packages (from imblearn) (0.12.4)\n",
            "Requirement already satisfied: numpy>=1.17.3 in c:\\users\\er9po\\anaconda3\\lib\\site-packages (from imbalanced-learn->imblearn) (1.24.3)\n",
            "Requirement already satisfied: scipy>=1.5.0 in c:\\users\\er9po\\anaconda3\\lib\\site-packages (from imbalanced-learn->imblearn) (1.10.1)\n",
            "Requirement already satisfied: scikit-learn>=1.0.2 in c:\\users\\er9po\\anaconda3\\lib\\site-packages (from imbalanced-learn->imblearn) (1.6.1)\n",
            "Requirement already satisfied: joblib>=1.1.1 in c:\\users\\er9po\\anaconda3\\lib\\site-packages (from imbalanced-learn->imblearn) (1.2.0)\n",
            "Requirement already satisfied: threadpoolctl>=2.0.0 in c:\\users\\er9po\\anaconda3\\lib\\site-packages (from imbalanced-learn->imblearn) (3.5.0)\n",
            "Downloading imblearn-0.0-py2.py3-none-any.whl (1.9 kB)\n",
            "Installing collected packages: imblearn\n",
            "Successfully installed imblearn-0.0\n"
          ]
        }
      ],
      "source": [
        "!pip install imblearn"
      ]
    },
    {
      "cell_type": "code",
      "execution_count": null,
      "id": "c123db3e",
      "metadata": {
        "id": "c123db3e",
        "outputId": "21c7f4f9-ffea-4574-d39c-4cee6b5f8416"
      },
      "outputs": [
        {
          "name": "stderr",
          "output_type": "stream",
          "text": [
            "C:\\Users\\er9po\\anaconda3\\Lib\\site-packages\\sklearn\\utils\\deprecation.py:151: FutureWarning: 'force_all_finite' was renamed to 'ensure_all_finite' in 1.6 and will be removed in 1.8.\n",
            "  warnings.warn(\n",
            "C:\\Users\\er9po\\anaconda3\\Lib\\site-packages\\sklearn\\base.py:484: FutureWarning: `BaseEstimator._check_n_features` is deprecated in 1.6 and will be removed in 1.7. Use `sklearn.utils.validation._check_n_features` instead.\n",
            "  warnings.warn(\n",
            "C:\\Users\\er9po\\anaconda3\\Lib\\site-packages\\sklearn\\base.py:493: FutureWarning: `BaseEstimator._check_feature_names` is deprecated in 1.6 and will be removed in 1.7. Use `sklearn.utils.validation._check_feature_names` instead.\n",
            "  warnings.warn(\n"
          ]
        }
      ],
      "source": [
        "# tech -RandomOversampler\n",
        "from imblearn.over_sampling import RandomOverSampler\n",
        "random_over_sampler=RandomOverSampler(random_state=42)\n",
        "X_train_res,y_train_res=random_over_sampler.fit_resample(X_train,y_train)"
      ]
    },
    {
      "cell_type": "code",
      "execution_count": null,
      "id": "125b3df3",
      "metadata": {
        "id": "125b3df3",
        "outputId": "a431b105-9068-4533-d654-77531ca85f27"
      },
      "outputs": [
        {
          "name": "stdout",
          "output_type": "stream",
          "text": [
            "(2760, 30)\n"
          ]
        }
      ],
      "source": [
        "print(X_train_res.shape)"
      ]
    },
    {
      "cell_type": "code",
      "execution_count": null,
      "id": "b2818cbd",
      "metadata": {
        "id": "b2818cbd",
        "outputId": "f545dfb8-0520-4cf0-c6f9-f5592992c994"
      },
      "outputs": [
        {
          "name": "stdout",
          "output_type": "stream",
          "text": [
            "(2760,)\n"
          ]
        }
      ],
      "source": [
        "print(y_train_res.shape)"
      ]
    },
    {
      "cell_type": "code",
      "execution_count": null,
      "id": "198651a7",
      "metadata": {
        "id": "198651a7",
        "outputId": "0a34418d-ca06-4605-9c7d-7a6a2d63c647"
      },
      "outputs": [
        {
          "data": {
            "text/plain": [
              "0    1380\n",
              "1    1380\n",
              "Name: Class, dtype: int64"
            ]
          },
          "execution_count": 17,
          "metadata": {},
          "output_type": "execute_result"
        }
      ],
      "source": [
        "y_train_res.value_counts()"
      ]
    },
    {
      "cell_type": "code",
      "execution_count": null,
      "id": "de89864a",
      "metadata": {
        "id": "de89864a",
        "outputId": "80921b67-c27a-4b71-9890-f07117a9932c"
      },
      "outputs": [
        {
          "data": {
            "text/plain": [
              "2760"
            ]
          },
          "execution_count": 18,
          "metadata": {},
          "output_type": "execute_result"
        }
      ],
      "source": [
        "1380+1380"
      ]
    },
    {
      "cell_type": "code",
      "execution_count": null,
      "id": "687a95e2",
      "metadata": {
        "id": "687a95e2",
        "outputId": "87198fc4-0a32-4fe4-ec96-b3b917052576"
      },
      "outputs": [
        {
          "name": "stderr",
          "output_type": "stream",
          "text": [
            "C:\\Users\\er9po\\anaconda3\\Lib\\site-packages\\sklearn\\utils\\deprecation.py:151: FutureWarning: 'force_all_finite' was renamed to 'ensure_all_finite' in 1.6 and will be removed in 1.8.\n",
            "  warnings.warn(\n",
            "C:\\Users\\er9po\\anaconda3\\Lib\\site-packages\\sklearn\\base.py:484: FutureWarning: `BaseEstimator._check_n_features` is deprecated in 1.6 and will be removed in 1.7. Use `sklearn.utils.validation._check_n_features` instead.\n",
            "  warnings.warn(\n",
            "C:\\Users\\er9po\\anaconda3\\Lib\\site-packages\\sklearn\\base.py:493: FutureWarning: `BaseEstimator._check_feature_names` is deprecated in 1.6 and will be removed in 1.7. Use `sklearn.utils.validation._check_feature_names` instead.\n",
            "  warnings.warn(\n"
          ]
        }
      ],
      "source": [
        "# tech -Randomunder sampler\n",
        "from imblearn.under_sampling import RandomUnderSampler\n",
        "random_under_sampler=RandomUnderSampler(random_state=42)\n",
        "X_train_under_sampled,y_train_under_sampled=random_under_sampler.fit_resample(X_train,y_train)"
      ]
    },
    {
      "cell_type": "code",
      "execution_count": null,
      "id": "94e1934a",
      "metadata": {
        "id": "94e1934a",
        "outputId": "b02b643e-ffe4-4c7a-d3b0-d40c60ccb357"
      },
      "outputs": [
        {
          "name": "stdout",
          "output_type": "stream",
          "text": [
            "(40, 30)\n"
          ]
        }
      ],
      "source": [
        "print(X_train_under_sampled.shape)"
      ]
    },
    {
      "cell_type": "code",
      "execution_count": null,
      "id": "818ebcd3",
      "metadata": {
        "id": "818ebcd3",
        "outputId": "2a2e6941-1421-4618-9347-97d89cef5c9f"
      },
      "outputs": [
        {
          "data": {
            "text/plain": [
              "0    20\n",
              "1    20\n",
              "Name: Class, dtype: int64"
            ]
          },
          "execution_count": 21,
          "metadata": {},
          "output_type": "execute_result"
        }
      ],
      "source": [
        "y_train_under_sampled.value_counts()"
      ]
    },
    {
      "cell_type": "code",
      "execution_count": null,
      "id": "92faf941",
      "metadata": {
        "id": "92faf941"
      },
      "outputs": [],
      "source": [
        "# SMOTE\n",
        "from imblearn.over_sampling import SMOTE\n",
        "smote=SMOTE(random_state=42)\n",
        "#X_train_smote,y_train_smote=smote.fit_resample(X_train,y_train)\n"
      ]
    },
    {
      "cell_type": "code",
      "execution_count": null,
      "id": "d4d4fa1d",
      "metadata": {
        "id": "d4d4fa1d",
        "outputId": "ac08bd12-f10c-4eba-a973-f43bac05ca5e"
      },
      "outputs": [
        {
          "name": "stdout",
          "output_type": "stream",
          "text": [
            "(2760, 30)\n"
          ]
        }
      ],
      "source": [
        "print(X_train_smote.shape)"
      ]
    },
    {
      "cell_type": "code",
      "execution_count": null,
      "id": "91137b44",
      "metadata": {
        "id": "91137b44",
        "outputId": "c0a21463-4164-4430-b9ee-a0bbbadf851a"
      },
      "outputs": [
        {
          "data": {
            "text/plain": [
              "0    1380\n",
              "1    1380\n",
              "Name: Class, dtype: int64"
            ]
          },
          "execution_count": 24,
          "metadata": {},
          "output_type": "execute_result"
        }
      ],
      "source": [
        "y_train_smote.value_counts()"
      ]
    },
    {
      "cell_type": "code",
      "execution_count": null,
      "id": "d82f9a30",
      "metadata": {
        "id": "d82f9a30"
      },
      "outputs": [],
      "source": [
        "# Apply any classification algo--use smote op\n",
        "log_rg\n",
        "rf"
      ]
    }
  ],
  "metadata": {
    "kernelspec": {
      "display_name": "Python 3 (ipykernel)",
      "language": "python",
      "name": "python3"
    },
    "language_info": {
      "codemirror_mode": {
        "name": "ipython",
        "version": 3
      },
      "file_extension": ".py",
      "mimetype": "text/x-python",
      "name": "python",
      "nbconvert_exporter": "python",
      "pygments_lexer": "ipython3",
      "version": "3.11.4"
    },
    "colab": {
      "provenance": [],
      "include_colab_link": true
    }
  },
  "nbformat": 4,
  "nbformat_minor": 5
}